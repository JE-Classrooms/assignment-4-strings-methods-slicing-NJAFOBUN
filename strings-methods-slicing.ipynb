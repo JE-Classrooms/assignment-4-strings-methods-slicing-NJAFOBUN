{
 "cells": [
  {
   "cell_type": "markdown",
   "metadata": {},
   "source": [
    "# Assignment 4"
   ]
  },
  {
   "cell_type": "markdown",
   "metadata": {},
   "source": [
    "1. Given two strings, s1 and s2, write a program to return a new string made of s1 and s2’s first, middle, and last characters all in capital letters."
   ]
  },
  {
   "cell_type": "code",
   "execution_count": 27,
   "metadata": {},
   "outputs": [
    {
     "data": {
      "text/plain": [
       "'I AM OLD AND I WILL RETIRE SOON.'"
      ]
     },
     "execution_count": 27,
     "metadata": {},
     "output_type": "execute_result"
    }
   ],
   "source": [
    "s1 = \"I am Old\"\n",
    "s2 = \"and i will retire soon.\"\n",
    "\n",
    "s1.upper() + ' ' + s2.upper()"
   ]
  },
  {
   "cell_type": "markdown",
   "metadata": {},
   "source": [
    "2. Calculate the sum and the averages of the numbers in the following string while ignoring all other characters:\n",
    "\n",
    "    ```aa4a649##aq#2```"
   ]
  },
  {
   "cell_type": "code",
   "execution_count": 6,
   "metadata": {},
   "outputs": [
    {
     "name": "stdout",
     "output_type": "stream",
     "text": [
      "The Sum of the numbers are: 655\n",
      "the averages of those numbers are: 218.33333333333334\n"
     ]
    }
   ],
   "source": [
    "s = 'aa4a649##aq#2'\n",
    "s = s.replace('a', '')\n",
    "s = s.replace('#', '')\n",
    "s = s.replace('q', '')\n",
    "\n",
    "x = int(s[0])\n",
    "y = int(s[1:4])\n",
    "z = int(s[4:])\n",
    "total = x + y + z\n",
    "avg = total/3\n",
    "\n",
    "print('The Sum of the numbers are:', + total)\n",
    "print('the averages of those numbers are:', + avg)\n",
    "\n"
   ]
  },
  {
   "cell_type": "markdown",
   "metadata": {},
   "source": [
    "3. Extract the last name Culberson from the following legislative action:\n",
    "\n",
    "    ```WORDS TAKEN DOWN - During the course of debate, exception was taken to certain words used and a demand was made to have words taken down. Mr. Culberson asked unanimous consent to withdraw the words. Without objection the words were withdrawn. The House resumed debate on S. 22 .```\n",
    "\n",
    "    **Hint:** use the method [split](https://www.w3schools.com/python/ref_string_split.asp)"
   ]
  },
  {
   "cell_type": "code",
   "execution_count": 26,
   "metadata": {},
   "outputs": [
    {
     "name": "stdout",
     "output_type": "stream",
     "text": [
      "['WORDS TAKEN DOWN - During the course of debate, exception was taken to certain words used and a demand was made to have words taken down', ' Mr', ' Culberson asked unanimous consent to withdraw the words', ' Without objection the words were withdrawn', ' The House resumed debate on S', ' 22 ', '']\n",
      "Culberson\n"
     ]
    }
   ],
   "source": [
    "s = \"WORDS TAKEN DOWN - During the course of debate, exception was taken to certain words used and a demand was made to have words taken down. Mr. Culberson asked unanimous consent to withdraw the words. Without objection the words were withdrawn. The House resumed debate on S. 22 .\"\n",
    "x = s.split(\".\")\n",
    "print(x)\n",
    "\n",
    "y = x[2]\n",
    "\n",
    "name = y[1:10]\n",
    "print(name)"
   ]
  },
  {
   "cell_type": "markdown",
   "metadata": {},
   "source": [
    "4. Extract the two integers from the following sentence and transform them intro ```int``` type\n",
    "\n",
    "    ```Passed Senate with amendments by Yea-Nay Vote. 73 - 21. Record Vote Number: 3 . (text: CR S430-557 )```"
   ]
  },
  {
   "cell_type": "code",
   "execution_count": 21,
   "metadata": {},
   "outputs": [
    {
     "name": "stdout",
     "output_type": "stream",
     "text": [
      "['Passed Senate with amendments by Yea-Nay Vote', ' 73 - 21', ' Record Vote Number: 3 ', ' (text: CR S430-557 )']\n",
      "(73, 21)\n"
     ]
    }
   ],
   "source": [
    "test_string = 'Passed Senate with amendments by Yea-Nay Vote. 73 - 21. Record Vote Number: 3 . (text: CR S430-557 )'\n",
    "\n",
    "x = test_string.split(\".\")\n",
    "print(x)\n",
    "\n",
    "y = x[1]\n",
    "\n",
    "solution = int(y[1:3]), int(y[6:8])\n",
    "print(solution)\n"
   ]
  }
 ],
 "metadata": {
  "kernelspec": {
   "display_name": "conda_amazonei_mxnet_p36",
   "language": "python",
   "name": "conda_amazonei_mxnet_p36"
  },
  "language_info": {
   "codemirror_mode": {
    "name": "ipython",
    "version": 3
   },
   "file_extension": ".py",
   "mimetype": "text/x-python",
   "name": "python",
   "nbconvert_exporter": "python",
   "pygments_lexer": "ipython3",
   "version": "3.6.13"
  },
  "vscode": {
   "interpreter": {
    "hash": "11838f79d2aaadbfa3a2adfaf35bacdebdb4e8d9b63957ddf298964812544a76"
   }
  }
 },
 "nbformat": 4,
 "nbformat_minor": 4
}
